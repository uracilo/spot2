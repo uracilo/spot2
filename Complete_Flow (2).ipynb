{
 "cells": [
  {
   "cell_type": "markdown",
   "id": "afd2433d",
   "metadata": {},
   "source": [
    "## STAGE I GET INFORMATION "
   ]
  },
  {
   "cell_type": "code",
   "execution_count": null,
   "id": "1f4d0533",
   "metadata": {},
   "outputs": [],
   "source": [
    "DNUE_2019_1_4_url='https://www.inegi.org.mx/contenidos/masiva/denue/2019_11/denue_00_46111_1119_csv.zip'\n",
    "DNUE_2019_2_4_url='https://www.inegi.org.mx/contenidos/masiva/denue/2019_11/denue_00_46112-46311_1119_csv.zip'\n",
    "DNUE_2019_3_4_url='https://www.inegi.org.mx/contenidos/masiva/denue/2019_11/denue_00_46321-46531_1119_csv.zip'\n",
    "DNUE_2019_4_4_url='https://www.inegi.org.mx/contenidos/masiva/denue/2019_11/denue_00_46591-46911_1119_csv.zip'\n",
    "DNUE_2020_1_4_url='https://www.inegi.org.mx/contenidos/masiva/denue/2020_11/denue_00_46111_1120_csv.zip'\n",
    "DNUE_2020_2_4_url='https://www.inegi.org.mx/contenidos/masiva/denue/2020_11/denue_00_46112-46311_1120_csv.zip'\n",
    "DNUE_2020_3_4_url='https://www.inegi.org.mx/contenidos/masiva/denue/2020_11/denue_00_46321-46531_1120_csv.zip'\n",
    "DNUE_2020_4_4_url='https://www.inegi.org.mx/contenidos/masiva/denue/2020_11/denue_00_46591-46911_1120_csv.zip'\n",
    "DNUE_2021_1_4_url='https://www.inegi.org.mx/contenidos/masiva/denue/denue_00_46111_csv.zip'\n",
    "DNUE_2021_2_4_url='https://www.inegi.org.mx/contenidos/masiva/denue/denue_00_46112-46311_csv.zip'\n",
    "DNUE_2021_3_4_url='https://www.inegi.org.mx/contenidos/masiva/denue/denue_00_46321-46531_csv.zip'\n",
    "DNUE_2021_4_4_url='https://www.inegi.org.mx/contenidos/masiva/denue/denue_00_46591-46911_csv.zip'"
   ]
  },
  {
   "cell_type": "code",
   "execution_count": null,
   "id": "00b51904",
   "metadata": {},
   "outputs": [],
   "source": [
    "import wget\n",
    "import os"
   ]
  },
  {
   "cell_type": "code",
   "execution_count": null,
   "id": "4c16c2da",
   "metadata": {},
   "outputs": [],
   "source": [
    "os.system(\"mkdir getfiles/2019\")\n",
    "os.system(\"mkdir getfiles/2020\")\n",
    "os.system(\"mkdir getfiles/2021\")"
   ]
  },
  {
   "cell_type": "code",
   "execution_count": null,
   "id": "96b380cc",
   "metadata": {},
   "outputs": [],
   "source": [
    "files_2019=[DNUE_2019_1_4_url,DNUE_2019_2_4_url,DNUE_2019_3_4_url,DNUE_2019_4_4_url]\n",
    "files_2020=[DNUE_2020_1_4_url,DNUE_2020_2_4_url,DNUE_2020_3_4_url,DNUE_2020_4_4_url]\n",
    "files_2021=[DNUE_2021_1_4_url,DNUE_2021_2_4_url,DNUE_2021_3_4_url,DNUE_2021_4_4_url]"
   ]
  },
  {
   "cell_type": "code",
   "execution_count": null,
   "id": "2dd1b8d6",
   "metadata": {},
   "outputs": [],
   "source": [
    "for getfiles in files_2019:\n",
    "    wget.download(getfiles)\n",
    "    os.system('mv *.zip getfiles/2019')"
   ]
  },
  {
   "cell_type": "code",
   "execution_count": null,
   "id": "ac838279",
   "metadata": {},
   "outputs": [],
   "source": [
    "for getfiles in files_2020:\n",
    "    wget.download(getfiles)\n",
    "    os.system('mv *.zip getfiles/2020')"
   ]
  },
  {
   "cell_type": "code",
   "execution_count": null,
   "id": "8bca77ec",
   "metadata": {},
   "outputs": [],
   "source": [
    "for getfiles in files_2021:\n",
    "    wget.download(getfiles)\n",
    "    os.system('mv *.zip getfiles/2021')"
   ]
  },
  {
   "cell_type": "code",
   "execution_count": null,
   "id": "9a851dc8",
   "metadata": {},
   "outputs": [],
   "source": [
    "import os, zipfile\n",
    "\n",
    "dir_name = '/home/ec2-user/SageMaker/getfiles/2019'\n",
    "extension = \".zip\"\n",
    "\n",
    "os.chdir(dir_name) \n",
    "for item in os.listdir(dir_name): # loop through items in dir\n",
    "    if item.endswith(extension): # check for \".zip\" extension\n",
    "        file_name = os.path.abspath(item) # get full path of files\n",
    "        zip_ref = zipfile.ZipFile(file_name) # create zipfile object\n",
    "        zip_ref.extractall(dir_name) # extract file to dir\n",
    "        zip_ref.close() # close file\n"
   ]
  },
  {
   "cell_type": "code",
   "execution_count": null,
   "id": "1e7557aa",
   "metadata": {},
   "outputs": [],
   "source": [
    "import os, zipfile\n",
    "\n",
    "dir_name = '/home/ec2-user/SageMaker/getfiles/2020'\n",
    "extension = \".zip\"\n",
    "\n",
    "os.chdir(dir_name) \n",
    "for item in os.listdir(dir_name): # loop through items in dir\n",
    "    if item.endswith(extension): # check for \".zip\" extension\n",
    "        file_name = os.path.abspath(item) # get full path of files\n",
    "        zip_ref = zipfile.ZipFile(file_name) # create zipfile object\n",
    "        zip_ref.extractall(dir_name) # extract file to dir\n",
    "        zip_ref.close() # close file"
   ]
  },
  {
   "cell_type": "code",
   "execution_count": null,
   "id": "cf24de4d",
   "metadata": {},
   "outputs": [],
   "source": [
    "import os, zipfile\n",
    "\n",
    "dir_name = '/home/ec2-user/SageMaker/getfiles/2021'\n",
    "extension = \".zip\"\n",
    "\n",
    "os.chdir(dir_name) \n",
    "for item in os.listdir(dir_name): # loop through items in dir\n",
    "    if item.endswith(extension): # check for \".zip\" extension\n",
    "        file_name = os.path.abspath(item) # get full path of files\n",
    "        zip_ref = zipfile.ZipFile(file_name) # create zipfile object\n",
    "        zip_ref.extractall(dir_name) # extract file to dir\n",
    "        zip_ref.close() # close file"
   ]
  },
  {
   "cell_type": "markdown",
   "id": "41cc627c",
   "metadata": {},
   "source": [
    "# DATA FROM 2019"
   ]
  },
  {
   "cell_type": "code",
   "execution_count": null,
   "id": "c1144907",
   "metadata": {},
   "outputs": [],
   "source": [
    "data2019_1_4='/home/ec2-user/SageMaker/getfiles/2019/conjunto_de_datos/denue_inegi_46111_.csv'\n",
    "data2019_2_4='/home/ec2-user/SageMaker/getfiles/2019/conjunto_de_datos/denue_inegi_46112-46311_.csv'\n",
    "data2019_3_4='/home/ec2-user/SageMaker/getfiles/2019/conjunto_de_datos/denue_inegi_46321-46531_.csv'\n",
    "data2019_4_4='/home/ec2-user/SageMaker/getfiles/2019/denue_00_46591-46911_csv/conjunto_de_datos/denue_inegi_46591-46911_.csv'"
   ]
  },
  {
   "cell_type": "code",
   "execution_count": null,
   "id": "baad09c5",
   "metadata": {},
   "outputs": [],
   "source": [
    "data2019_1_4='/home/ec2-user/SageMaker/getfiles/2019/conjunto_de_datos/denue_inegi_46111_.csv'\n",
    "data2019_2_4='/home/ec2-user/SageMaker/getfiles/2019/conjunto_de_datos/denue_inegi_46112-46311_.csv'\n",
    "data2019_3_4='/home/ec2-user/SageMaker/getfiles/2019/conjunto_de_datos/denue_inegi_46321-46531_.csv'\n",
    "data2019_4_4='/home/ec2-user/SageMaker/getfiles/2019/conjunto_de_datos/denue_inegi_46591-46911_.csv'"
   ]
  },
  {
   "cell_type": "code",
   "execution_count": null,
   "id": "7c49837a",
   "metadata": {},
   "outputs": [],
   "source": [
    "import pandas as pd\n",
    "years_data = [data2019_1_4,data2019_2_4,data2019_3_4,data2019_4_4]\n",
    "li=[]\n",
    "for csv_data in years_data:\n",
    "    df = pd.read_csv(csv_data, encoding=\"ISO-8859-1\")\n",
    "    li.append(df)\n",
    "frame_2019 = pd.concat(li, axis=0, ignore_index=True)\n",
    "frame_2019['year']='2019'"
   ]
  },
  {
   "cell_type": "code",
   "execution_count": null,
   "id": "898fa90d",
   "metadata": {},
   "outputs": [],
   "source": [
    "year_2019 = frame_2019[['nom_estab', 'codigo_act','nombre_act','per_ocu','cve_ent','entidad','latitud','longitud','year']]\n",
    "mexico_city_2019 = year_2019[year_2019[\"cve_ent\"] == 9]\n",
    "pizza_data_2019 = mexico_city_2019.loc[mexico_city_2019['nom_estab'].str.contains(\"pizza\",case=False)]\n",
    "pizza_data_2019"
   ]
  },
  {
   "cell_type": "markdown",
   "id": "801f1b9d",
   "metadata": {},
   "source": [
    "# DATA FROM 2020\n"
   ]
  },
  {
   "cell_type": "code",
   "execution_count": null,
   "id": "5e4139a9",
   "metadata": {},
   "outputs": [],
   "source": [
    "data2020_1_4='/home/ec2-user/SageMaker/getfiles/2020/conjunto_de_datos/denue_inegi_46111_.csv'\n",
    "data2020_2_4='/home/ec2-user/SageMaker/getfiles/2020/conjunto_de_datos/denue_inegi_46112-46311_.csv'\n",
    "data2020_3_4='/home/ec2-user/SageMaker/getfiles/2020/conjunto_de_datos/denue_inegi_46321-46531_.csv'\n",
    "data2020_4_4='/home/ec2-user/SageMaker/getfiles/2020/conjunto_de_datos/denue_inegi_46591-46911_.csv'"
   ]
  },
  {
   "cell_type": "code",
   "execution_count": null,
   "id": "8729747f",
   "metadata": {},
   "outputs": [],
   "source": [
    "import pandas as pd\n",
    "years_data = [data2020_1_4,data2020_2_4,data2020_3_4,data2020_4_4]\n",
    "li=[]\n",
    "for csv_data in years_data:\n",
    "    df = pd.read_csv(csv_data, encoding=\"ISO-8859-1\")\n",
    "    li.append(df)\n",
    "frame_2020 = pd.concat(li, axis=0, ignore_index=True)\n",
    "frame_2020['year']='2020'\n"
   ]
  },
  {
   "cell_type": "code",
   "execution_count": null,
   "id": "18ceb38d",
   "metadata": {},
   "outputs": [],
   "source": [
    "year_2020= frame_2020[['nom_estab', 'codigo_act','nombre_act','per_ocu','cve_ent','entidad','latitud','longitud','year']]\n",
    "mexico_city_2020 = year_2020[year_2020[\"cve_ent\"] == 9]\n",
    "pizza_data_2020 = mexico_city_2020.loc[mexico_city_2020['nom_estab'].str.contains(\"pizza\",case=False)]\n",
    "pizza_data_2020"
   ]
  },
  {
   "cell_type": "markdown",
   "id": "6f2bfbd0",
   "metadata": {},
   "source": [
    "# DATA FROM 2021"
   ]
  },
  {
   "cell_type": "code",
   "execution_count": null,
   "id": "a595ace7",
   "metadata": {},
   "outputs": [],
   "source": [
    "data2021_1_4='/home/ec2-user/SageMaker/getfiles/2021/conjunto_de_datos/denue_inegi_46111_.csv'\n",
    "data2021_2_4='/home/ec2-user/SageMaker/getfiles/2021/conjunto_de_datos/denue_inegi_46112-46311_.csv'\n",
    "data2021_3_4='/home/ec2-user/SageMaker/getfiles/2021/conjunto_de_datos/denue_inegi_46321-46531_.csv'\n",
    "data2021_4_4='/home/ec2-user/SageMaker/getfiles/2021/conjunto_de_datos/denue_inegi_46591-46911_.csv'"
   ]
  },
  {
   "cell_type": "code",
   "execution_count": null,
   "id": "e2f931df",
   "metadata": {},
   "outputs": [],
   "source": [
    "import pandas as pd\n",
    "years_data = [data2021_1_4,data2021_2_4,data2021_3_4,data2021_4_4]\n",
    "li=[]\n",
    "for csv_data in years_data:\n",
    "    df = pd.read_csv(csv_data, encoding=\"ISO-8859-1\")\n",
    "    li.append(df)\n",
    "frame_2021= pd.concat(li, axis=0, ignore_index=True)\n",
    "frame_2021['year']='2021'\n"
   ]
  },
  {
   "cell_type": "code",
   "execution_count": null,
   "id": "e76a3350",
   "metadata": {},
   "outputs": [],
   "source": [
    "year_2021 = frame_2021[['nom_estab', 'codigo_act','nombre_act','per_ocu','cve_ent','entidad','latitud','longitud','year']]\n",
    "mexico_city_2021 = year_2021[year_2021[\"cve_ent\"] == 9]\n",
    "pizza_data_2021 = mexico_city_2021.loc[mexico_city_2021['nom_estab'].str.contains(\"pizza\",case=False)]\n",
    "pizza_data_2021"
   ]
  },
  {
   "cell_type": "markdown",
   "id": "7fc8406d",
   "metadata": {},
   "source": [
    "## GET DATA from pizza"
   ]
  },
  {
   "cell_type": "code",
   "execution_count": null,
   "id": "9a47a538",
   "metadata": {},
   "outputs": [],
   "source": [
    "pizza_dfs = [pizza_data_2021,pizza_data_2020,pizza_data_2019]"
   ]
  },
  {
   "cell_type": "code",
   "execution_count": null,
   "id": "7b611647",
   "metadata": {},
   "outputs": [],
   "source": [
    "years_pizza = pd.concat(pizza_dfs, axis=0, ignore_index=True)"
   ]
  },
  {
   "cell_type": "code",
   "execution_count": null,
   "id": "27f28af9",
   "metadata": {},
   "outputs": [],
   "source": [
    "years_pizza"
   ]
  },
  {
   "cell_type": "code",
   "execution_count": null,
   "id": "8aa45ddb",
   "metadata": {},
   "outputs": [],
   "source": [
    "from pathlib import Path  \n",
    "filepath = Path('years_pizza.json')  \n",
    "filepath.parent.mkdir(parents=True, exist_ok=True)  \n",
    "years_pizza.to_json(filepath) \n",
    "import os\n",
    "os.system('aws s3 cp years_pizza.json s3://processed-data-denue')"
   ]
  },
  {
   "cell_type": "markdown",
   "id": "beb7c21f",
   "metadata": {},
   "source": [
    "## STAGE II calculate the distances"
   ]
  },
  {
   "cell_type": "code",
   "execution_count": null,
   "id": "4582893c",
   "metadata": {},
   "outputs": [],
   "source": [
    "import pandas as pd\n",
    "\n",
    "SPOTS_points = {'Spot':  ['423', '632','702','1021','937' ],\n",
    "        'Dirección': ['Rio Lerma 65', 'Zacatecas 24','Oklahoma 84','Av. Universidad 707','Felix Parra 117' ],\n",
    "        'Latitud': ['19.43061268916689', '19.4166999785185','19.391890374793046','19.375386845013207','19.366311887545983' ],\n",
    "        'Longitud': ['-99.16507358911448', '-99.1556043737739','-99.17759500279307','-99.16212560238631','-99.18504078433399' ]\n",
    "        }\n",
    "\n",
    "SPOTS_points = pd.DataFrame(SPOTS_points)\n",
    "SPOTS_points"
   ]
  },
  {
   "cell_type": "code",
   "execution_count": null,
   "id": "91db6022",
   "metadata": {},
   "outputs": [],
   "source": [
    "import requests\n",
    "api_denue = 'https://82n0gj3j74.execute-api.us-east-1.amazonaws.com/default/pizza_denue_comercio_por_menor'\n",
    "response = requests.get(api_denue)\n",
    "data = response.json()\n",
    "df2 = pd.DataFrame.from_dict(data)\n",
    "df2"
   ]
  },
  {
   "cell_type": "code",
   "execution_count": null,
   "id": "abb5c4ba",
   "metadata": {},
   "outputs": [],
   "source": [
    "!pip install geopy\n",
    "import geopy.distance"
   ]
  },
  {
   "cell_type": "code",
   "execution_count": null,
   "id": "598e1045",
   "metadata": {},
   "outputs": [],
   "source": [
    "df2['Rio_lerma_lat'] = float(SPOTS_points.iloc[0]['Latitud'])\n",
    "df2['Rio_lerma_long'] = float(SPOTS_points.iloc[0]['Longitud'])\n",
    "df2['Coordenades_Rio_lerma'] = list(zip(df2.Rio_lerma_lat, df2.Rio_lerma_long))"
   ]
  },
  {
   "cell_type": "code",
   "execution_count": null,
   "id": "1d55f64a",
   "metadata": {},
   "outputs": [],
   "source": [
    "df2['Zacatecas_24_lat'] = float(SPOTS_points.iloc[1]['Latitud'])\n",
    "df2['Zacatecas_24_long'] = float(SPOTS_points.iloc[1]['Longitud'])\n",
    "df2['Coordenades_Zacatecas_24'] = list(zip(df2.Zacatecas_24_lat, df2.Zacatecas_24_long))"
   ]
  },
  {
   "cell_type": "code",
   "execution_count": null,
   "id": "b9bcae97",
   "metadata": {},
   "outputs": [],
   "source": [
    "df2['Oklahoma_84_lat'] = float(SPOTS_points.iloc[2]['Latitud'])\n",
    "df2['Oklahoma_84_long'] = float(SPOTS_points.iloc[2]['Longitud'])\n",
    "df2['Coordenades_Oklahoma_84'] = list(zip(df2.Oklahoma_84_lat, df2.Oklahoma_84_long))"
   ]
  },
  {
   "cell_type": "code",
   "execution_count": null,
   "id": "bf98a93f",
   "metadata": {},
   "outputs": [],
   "source": [
    "df2['Av_Universidad_707_lat'] = float(SPOTS_points.iloc[3]['Latitud'])\n",
    "df2['Av_Universidad_707_long'] = float(SPOTS_points.iloc[3]['Longitud'])\n",
    "df2['Coordenades_Av_Universidad_707'] = list(zip(df2.Av_Universidad_707_lat, df2.Av_Universidad_707_long))"
   ]
  },
  {
   "cell_type": "code",
   "execution_count": null,
   "id": "af69795c",
   "metadata": {},
   "outputs": [],
   "source": [
    "df2['Av_Felix_Parra_117_lat'] = float(SPOTS_points.iloc[4]['Latitud'])\n",
    "df2['Av_Felix_Parra_117_long'] = float(SPOTS_points.iloc[4]['Longitud'])\n",
    "df2['Coordenades_Av_Felix_Parra_117'] = list(zip(df2.Av_Felix_Parra_117_lat, df2.Av_Felix_Parra_117_long))"
   ]
  },
  {
   "cell_type": "code",
   "execution_count": null,
   "id": "fc9c8cd9",
   "metadata": {},
   "outputs": [],
   "source": [
    "df2['Coordenades'] = list(zip(df2.latitud, df2.longitud))"
   ]
  },
  {
   "cell_type": "code",
   "execution_count": null,
   "id": "1cd27826",
   "metadata": {},
   "outputs": [],
   "source": [
    "dfclean_Coordenades = df2[['nom_estab','per_ocu','Coordenades','Coordenades_Rio_lerma','Coordenades_Zacatecas_24','Coordenades_Oklahoma_84','Coordenades_Av_Universidad_707','Coordenades_Av_Felix_Parra_117']]"
   ]
  },
  {
   "cell_type": "code",
   "execution_count": null,
   "id": "dae8b025",
   "metadata": {},
   "outputs": [],
   "source": [
    "def calcultate_distance(coords1,coords2):\n",
    "    response = round(geopy.distance.distance(coords1, coords2).km)\n",
    "    return response"
   ]
  },
  {
   "cell_type": "code",
   "execution_count": null,
   "id": "af0bbdf1",
   "metadata": {},
   "outputs": [],
   "source": [
    "dfclean_Coordenades['Distance_Rio_lerma'] = dfclean_Coordenades.apply(lambda x: calcultate_distance(x['Coordenades'], x['Coordenades_Rio_lerma']), axis=1)\n",
    "dfclean_Coordenades['Distance_Zacatecas_24'] = dfclean_Coordenades.apply(lambda x: calcultate_distance(x['Coordenades'], x['Coordenades_Zacatecas_24']), axis=1)\n",
    "dfclean_Coordenades['Distance_Oklahoma_84'] = dfclean_Coordenades.apply(lambda x: calcultate_distance(x['Coordenades'], x['Coordenades_Oklahoma_84']), axis=1)\n",
    "dfclean_Coordenades['Distance_Av_Universidad_707'] = dfclean_Coordenades.apply(lambda x: calcultate_distance(x['Coordenades'], x['Coordenades_Av_Universidad_707']), axis=1)\n",
    "dfclean_Coordenades['Distance_Av_Felix_Parra_117'] = dfclean_Coordenades.apply(lambda x: calcultate_distance(x['Coordenades'], x['Coordenades_Av_Felix_Parra_117']), axis=1)\n"
   ]
  },
  {
   "cell_type": "code",
   "execution_count": null,
   "id": "c6460e17",
   "metadata": {},
   "outputs": [],
   "source": [
    "km_distances = dfclean_Coordenades[['nom_estab', 'per_ocu', 'Coordenades',\n",
    "       'Distance_Rio_lerma', 'Distance_Zacatecas_24', 'Distance_Oklahoma_84',\n",
    "       'Distance_Av_Universidad_707', 'Distance_Av_Felix_Parra_117']]"
   ]
  },
  {
   "cell_type": "code",
   "execution_count": null,
   "id": "35bbf57c",
   "metadata": {},
   "outputs": [],
   "source": [
    "from pathlib import Path  \n",
    "filepath = Path('km_distances.json')  \n",
    "filepath.parent.mkdir(parents=True, exist_ok=True)  \n",
    "km_distances.to_json(filepath) \n",
    "import os\n",
    "os.system('aws s3 cp km_distances.json s3://processed-data-denue')"
   ]
  },
  {
   "cell_type": "code",
   "execution_count": null,
   "id": "b264d969",
   "metadata": {},
   "outputs": [],
   "source": []
  }
 ],
 "metadata": {
  "kernelspec": {
   "display_name": "conda_python3",
   "language": "python",
   "name": "conda_python3"
  },
  "language_info": {
   "codemirror_mode": {
    "name": "ipython",
    "version": 3
   },
   "file_extension": ".py",
   "mimetype": "text/x-python",
   "name": "python",
   "nbconvert_exporter": "python",
   "pygments_lexer": "ipython3",
   "version": "3.6.13"
  }
 },
 "nbformat": 4,
 "nbformat_minor": 5
}
